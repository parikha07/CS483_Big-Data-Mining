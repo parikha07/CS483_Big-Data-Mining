{
  "cells": [
    {
      "cell_type": "markdown",
      "metadata": {
        "id": "kPt5q27L5557"
      },
      "source": [
        "# CS483 - Colab 4\n",
        "## Collaborative Filtering"
      ]
    },
    {
      "cell_type": "markdown",
      "source": [
        "This code is written by Parikha Goyanka\n",
        "Resources take in help if required: Goog search, Stackoverflow, Gfg, W3School"
      ],
      "metadata": {
        "id": "0xWmKxoJ78QW"
      }
    },
    {
      "cell_type": "code",
      "execution_count": 1,
      "metadata": {
        "colab": {
          "base_uri": "https://localhost:8080/",
          "height": 189
        },
        "id": "qcTbH0d9e0Nf",
        "outputId": "194397d6-6d9b-4efa-8d83-f17857b15627"
      },
      "outputs": [
        {
          "output_type": "stream",
          "name": "stdout",
          "text": [
            "Colab 4 Mascot\n"
          ]
        },
        {
          "output_type": "execute_result",
          "data": {
            "text/html": [
              "<img src=\"https://media4.giphy.com/media/wtdVYmaRWJ1PyPcc8e/giphy.gif?cid=ecf05e478jdbzo92b89f2b5ud5184xda9cen1xce4bwmjeyu&ep=v1_stickers_search&rid=giphy.gif&ct=s\" width=\"150\"/>"
            ],
            "text/plain": [
              "<IPython.core.display.Image object>"
            ]
          },
          "metadata": {},
          "execution_count": 1
        }
      ],
      "source": [
        "from IPython.display import Image\n",
        "print(\"Colab 4 Mascot\")\n",
        "Image(url='https://media4.giphy.com/media/wtdVYmaRWJ1PyPcc8e/giphy.gif?cid=ecf05e478jdbzo92b89f2b5ud5184xda9cen1xce4bwmjeyu&ep=v1_stickers_search&rid=giphy.gif&ct=s',width=150)"
      ]
    },
    {
      "cell_type": "markdown",
      "metadata": {
        "id": "p0-YhEpP_Ds-"
      },
      "source": [
        "### Setup"
      ]
    },
    {
      "cell_type": "markdown",
      "metadata": {
        "id": "Zsj5WYpR9QId"
      },
      "source": [
        "Let's set up Spark on your Colab environment.  Run the cell below!"
      ]
    },
    {
      "cell_type": "code",
      "execution_count": 2,
      "metadata": {
        "colab": {
          "base_uri": "https://localhost:8080/"
        },
        "id": "k-qHai2252mI",
        "outputId": "dbeb4acf-7946-435f-9a76-c775405aa624"
      },
      "outputs": [
        {
          "output_type": "stream",
          "name": "stdout",
          "text": [
            "Requirement already satisfied: pyspark in /usr/local/lib/python3.10/dist-packages (3.5.3)\n",
            "Requirement already satisfied: py4j==0.10.9.7 in /usr/local/lib/python3.10/dist-packages (from pyspark) (0.10.9.7)\n",
            "openjdk-8-jdk-headless is already the newest version (8u422-b05-1~22.04).\n",
            "0 upgraded, 0 newly installed, 0 to remove and 49 not upgraded.\n"
          ]
        }
      ],
      "source": [
        "!pip install pyspark\n",
        "!pip install -U -q PyDrive\n",
        "!apt install openjdk-8-jdk-headless -qq\n",
        "import os\n",
        "os.environ[\"JAVA_HOME\"] = \"/usr/lib/jvm/java-8-openjdk-amd64\""
      ]
    },
    {
      "cell_type": "markdown",
      "metadata": {
        "id": "PUUjUvXe3Sjk"
      },
      "source": [
        "Now we authenticate a Google Drive client to download the files we will be processing in our Spark job.\n",
        "\n",
        "**Make sure to follow the interactive instructions.**"
      ]
    },
    {
      "cell_type": "code",
      "execution_count": 3,
      "metadata": {
        "colab": {
          "base_uri": "https://localhost:8080/"
        },
        "id": "lRElWs_x2mGh",
        "outputId": "687186c3-41fa-49c8-dd89-99141adcb8a8"
      },
      "outputs": [
        {
          "output_type": "stream",
          "name": "stderr",
          "text": [
            "WARNING:root:pydrive is deprecated and no longer maintained. We recommend that you migrate your projects to pydrive2, the maintained fork of pydrive\n"
          ]
        }
      ],
      "source": [
        "from pydrive.auth import GoogleAuth\n",
        "from pydrive.drive import GoogleDrive\n",
        "from google.colab import auth\n",
        "from oauth2client.client import GoogleCredentials"
      ]
    },
    {
      "cell_type": "code",
      "source": [
        "# Authenticate and create the PyDrive client\n",
        "auth.authenticate_user()\n",
        "gauth = GoogleAuth()\n",
        "gauth.credentials = GoogleCredentials.get_application_default()\n",
        "drive = GoogleDrive(gauth)"
      ],
      "metadata": {
        "id": "0gl30pwH3VNB"
      },
      "execution_count": 4,
      "outputs": []
    },
    {
      "cell_type": "code",
      "execution_count": 5,
      "metadata": {
        "id": "QHsFTGUy2n1c"
      },
      "outputs": [],
      "source": [
        "id='1QtPy_HuIMSzhtYllT3-WeM3Sqg55wK_D'\n",
        "downloaded = drive.CreateFile({'id': id})\n",
        "downloaded.GetContentFile('MovieLens.training')\n",
        "\n",
        "id='1ePqnsQTJRRvQcBoF2EhoPU8CU1i5byHK'\n",
        "downloaded = drive.CreateFile({'id': id})\n",
        "downloaded.GetContentFile('MovieLens.test')\n",
        "\n",
        "id='1ncUBWdI5AIt3FDUJokbMqpHD2knd5ebp'\n",
        "downloaded = drive.CreateFile({'id': id})\n",
        "downloaded.GetContentFile('MovieLens.item')"
      ]
    },
    {
      "cell_type": "markdown",
      "metadata": {
        "id": "qwtlO4_m_LbQ"
      },
      "source": [
        "If you executed the cells above, you should be able to see the dataset we will use for this Colab under the \"Files\" tab on the left panel.\n",
        "\n",
        "Next, we import some of the common libraries needed for our task."
      ]
    },
    {
      "cell_type": "code",
      "execution_count": 6,
      "metadata": {
        "id": "twk-K-jilWK7"
      },
      "outputs": [],
      "source": [
        "import pandas as pd\n",
        "import numpy as np\n",
        "import matplotlib.pyplot as plt\n",
        "%matplotlib inline\n",
        "import seaborn as sns\n",
        "\n",
        "import pyspark\n",
        "from pyspark.sql import *\n",
        "from pyspark.sql.types import *\n",
        "from pyspark.sql.functions import *\n",
        "from pyspark import SparkContext, SparkConf"
      ]
    },
    {
      "cell_type": "markdown",
      "metadata": {
        "id": "BtrJlMBt1Ela"
      },
      "source": [
        "Let's initialize the Spark context."
      ]
    },
    {
      "cell_type": "code",
      "execution_count": 7,
      "metadata": {
        "id": "Vm3sAVeK1EDZ"
      },
      "outputs": [],
      "source": [
        "# create the session\n",
        "conf = SparkConf().set(\"spark.ui.port\", \"4050\")\n",
        "\n",
        "# create the context\n",
        "sc = pyspark.SparkContext(conf=conf)\n",
        "spark = SparkSession.builder.getOrCreate()"
      ]
    },
    {
      "cell_type": "code",
      "source": [
        "spark"
      ],
      "metadata": {
        "colab": {
          "base_uri": "https://localhost:8080/",
          "height": 219
        },
        "id": "qE-z3-uvrBKu",
        "outputId": "7353032c-3d35-4afb-aac8-439d5894b6de"
      },
      "execution_count": 8,
      "outputs": [
        {
          "output_type": "execute_result",
          "data": {
            "text/plain": [
              "<pyspark.sql.session.SparkSession at 0x7bca85589600>"
            ],
            "text/html": [
              "\n",
              "            <div>\n",
              "                <p><b>SparkSession - in-memory</b></p>\n",
              "                \n",
              "        <div>\n",
              "            <p><b>SparkContext</b></p>\n",
              "\n",
              "            <p><a href=\"http://51d084e5bc02:4050\">Spark UI</a></p>\n",
              "\n",
              "            <dl>\n",
              "              <dt>Version</dt>\n",
              "                <dd><code>v3.5.3</code></dd>\n",
              "              <dt>Master</dt>\n",
              "                <dd><code>local[*]</code></dd>\n",
              "              <dt>AppName</dt>\n",
              "                <dd><code>pyspark-shell</code></dd>\n",
              "            </dl>\n",
              "        </div>\n",
              "        \n",
              "            </div>\n",
              "        "
            ]
          },
          "metadata": {},
          "execution_count": 8
        }
      ]
    },
    {
      "cell_type": "markdown",
      "metadata": {
        "id": "kAYRX2PMm0L6"
      },
      "source": [
        "### Data Loading"
      ]
    },
    {
      "cell_type": "markdown",
      "metadata": {
        "id": "7hXdMR6wnEIM"
      },
      "source": [
        "In this Colab, we will be using the [MovieLens dataset](https://grouplens.org/datasets/movielens/), specifically the 100K dataset (which contains in total 100,000 ratings from 1000 users on ~1700 movies).\n",
        "\n",
        "We load the ratings data in a 80%-20% ```training```/```test``` split, while the ```items``` dataframe contains the movie titles associated to the item identifiers."
      ]
    },
    {
      "cell_type": "code",
      "execution_count": 9,
      "metadata": {
        "id": "5K93ABEy9Zlo"
      },
      "outputs": [],
      "source": [
        "schema_ratings = StructType([\n",
        "    StructField(\"user_id\", IntegerType(), False),\n",
        "    StructField(\"item_id\", IntegerType(), False),\n",
        "    StructField(\"rating\", IntegerType(), False),\n",
        "    StructField(\"timestamp\", IntegerType(), False)])\n",
        "\n",
        "schema_items = StructType([\n",
        "    StructField(\"item_id\", IntegerType(), False),\n",
        "    StructField(\"movie\", StringType(), False)])\n",
        "\n",
        "training = spark.read.option(\"sep\", \"\\t\").csv(\"MovieLens.training\", header=False, schema=schema_ratings)\n",
        "test = spark.read.option(\"sep\", \"\\t\").csv(\"MovieLens.test\", header=False, schema=schema_ratings)\n",
        "items = spark.read.option(\"sep\", \"|\").csv(\"MovieLens.item\", header=False, schema=schema_items)"
      ]
    },
    {
      "cell_type": "code",
      "execution_count": 10,
      "metadata": {
        "id": "MC_m1oygCoEm",
        "colab": {
          "base_uri": "https://localhost:8080/"
        },
        "outputId": "aa1dc48e-df18-4bd0-ef9b-a9e7d616e913"
      },
      "outputs": [
        {
          "output_type": "stream",
          "name": "stdout",
          "text": [
            "root\n",
            " |-- user_id: integer (nullable = true)\n",
            " |-- item_id: integer (nullable = true)\n",
            " |-- rating: integer (nullable = true)\n",
            " |-- timestamp: integer (nullable = true)\n",
            "\n"
          ]
        }
      ],
      "source": [
        "training.printSchema()"
      ]
    },
    {
      "cell_type": "code",
      "execution_count": 11,
      "metadata": {
        "id": "81Vgo4ovCqtQ",
        "colab": {
          "base_uri": "https://localhost:8080/"
        },
        "outputId": "0c8b8dd9-d76d-4789-963c-3cb49b1a4638"
      },
      "outputs": [
        {
          "output_type": "stream",
          "name": "stdout",
          "text": [
            "root\n",
            " |-- item_id: integer (nullable = true)\n",
            " |-- movie: string (nullable = true)\n",
            "\n"
          ]
        }
      ],
      "source": [
        "items.printSchema()"
      ]
    },
    {
      "cell_type": "markdown",
      "metadata": {
        "id": "CRaF2A_j_nC7"
      },
      "source": [
        "### Your task"
      ]
    },
    {
      "cell_type": "markdown",
      "metadata": {
        "id": "zM9w2aUvJ7KN"
      },
      "source": [
        "Let's compute some stats!  What is the number of ratings in the training and test dataset? How many movies are in our dataset?"
      ]
    },
    {
      "cell_type": "code",
      "execution_count": 33,
      "metadata": {
        "id": "8XZaH16t_CIw",
        "colab": {
          "base_uri": "https://localhost:8080/"
        },
        "outputId": "e8c8f539-5b08-4c93-a66e-6b8fabdfbccf"
      },
      "outputs": [
        {
          "output_type": "stream",
          "name": "stdout",
          "text": [
            "************************** Overview Stats **************************\n",
            "\n",
            "Shape of the training dataset:  (80000, 4)\n",
            "Shape of the testing dataset:  (20000, 4)\n",
            "\n",
            "************************** Rating Stats **************************\n",
            "\n",
            "Total ratings in the training set: 80000\n",
            "Total ratings in the test set: 20000\n",
            "Total distinct movies: 1682\n",
            "\n",
            "************************** User Stats **************************\n",
            "\n",
            "Unique users in the training dataset: 943\n",
            "Unique users in the testing dataset: 459\n",
            "\n",
            "************************** Average Ratings per User **************************\n",
            "\n",
            "Average ratings per user in the training set: 84.84\n",
            "Average ratings per user in the test set: 43.57\n",
            "\n",
            "************************** Average Ratings per Movie **************************\n",
            "\n",
            "Average ratings per movie in the training set: 48.48\n",
            "Average ratings per movie in the test set: 14.18\n"
          ]
        }
      ],
      "source": [
        "print(\"************************** Overview Stats **************************\\n\")\n",
        "print(\"Shape of the training dataset: \", (training.count(), len(training.columns)))\n",
        "print(\"Shape of the testing dataset: \", (test.count(), len(test.columns)))\n",
        "\n",
        "print(\"\\n************************** Rating Stats **************************\\n\")\n",
        "# Calculating total no of ratings in both sets\n",
        "num_ratings_train = training.count()\n",
        "num_ratings_test = test.count()\n",
        "\n",
        "# Calculating distinct count of movies in the dataset\n",
        "total_movies = items.select(\"item_id\").distinct().count()\n",
        "\n",
        "print(f\"Total ratings in the training set: {num_ratings_train}\")\n",
        "print(f\"Total ratings in the test set: {num_ratings_test}\")\n",
        "print(f\"Total distinct movies: {total_movies}\")\n",
        "\n",
        "print(\"\\n************************** User Stats **************************\\n\")\n",
        "# Calculating no of unique users in both datasets\n",
        "unique_train_users = training.select(\"user_id\").distinct().count()\n",
        "unique_test_users = test.select(\"user_id\").distinct().count()\n",
        "print(f\"Unique users in the training dataset: {unique_train_users}\")\n",
        "print(f\"Unique users in the testing dataset: {unique_test_users}\")\n",
        "\n",
        "print(\"\\n************************** Average Ratings per User **************************\\n\")\n",
        "# Calculating avg no of ratings each user has given\n",
        "avg_ratings_per_user_train = training.groupBy(\"user_id\").count().agg(avg(\"count\")).first()[0]\n",
        "avg_ratings_per_user_test = test.groupBy(\"user_id\").count().agg(avg(\"count\")).first()[0]\n",
        "print(f\"Average ratings per user in the training set: {avg_ratings_per_user_train:.2f}\")\n",
        "print(f\"Average ratings per user in the test set: {avg_ratings_per_user_test:.2f}\")\n",
        "\n",
        "print(\"\\n************************** Average Ratings per Movie **************************\\n\")\n",
        "# Calculating avg no of ratings per movie\n",
        "avg_ratings_per_movie_train = training.groupBy(\"item_id\").count().agg(avg(\"count\")).first()[0]\n",
        "avg_ratings_per_movie_test = test.groupBy(\"item_id\").count().agg(avg(\"count\")).first()[0]\n",
        "print(f\"Average ratings per movie in the training set: {avg_ratings_per_movie_train:.2f}\")\n",
        "print(f\"Average ratings per movie in the test set: {avg_ratings_per_movie_test:.2f}\")"
      ]
    },
    {
      "cell_type": "code",
      "source": [
        "# Data preparation: Analyzing rating distribution\n",
        "print(\"\\n************************** Rating Distribution Stats **************************\\n\")\n",
        "# Distribution of ratings (counting of 1-star, 2-star, etc. ratings)\n",
        "train_rating_dist = training.groupBy(\"rating\").count().orderBy(\"rating\").collect()\n",
        "test_rating_dist = test.groupBy(\"rating\").count().orderBy(\"rating\").collect()\n",
        "\n",
        "# Calculating counts from the collected data\n",
        "train_dist_values = [entry['count'] for entry in train_rating_dist]\n",
        "test_dist_values = [entry['count'] for entry in test_rating_dist]\n",
        "rating_labels = [entry['rating'] for entry in train_rating_dist]\n",
        "\n",
        "# Ploting chart for training and test datasets\n",
        "plt.figure(figsize=(6, 4))\n",
        "plt.bar(rating_labels, train_dist_values, alpha=0.7, label='Training Data', color='blue')\n",
        "plt.bar(rating_labels, test_dist_values, alpha=0.7, label='Test Data', color='orange', width=0.4)\n",
        "\n",
        "# cosmetic changes\n",
        "plt.xlabel('Rating Value')\n",
        "plt.ylabel('Frequency')\n",
        "plt.title('Distribution of Ratings in Training and Test Sets')\n",
        "plt.legend()\n",
        "plt.show()\n"
      ],
      "metadata": {
        "colab": {
          "base_uri": "https://localhost:8080/",
          "height": 462
        },
        "id": "yWT1sW2G3CFh",
        "outputId": "d94689e9-dc4a-4aff-ac26-6cb5c57debd6"
      },
      "execution_count": 34,
      "outputs": [
        {
          "output_type": "stream",
          "name": "stdout",
          "text": [
            "\n",
            "************************** Rating Distribution Stats **************************\n",
            "\n"
          ]
        },
        {
          "output_type": "display_data",
          "data": {
            "text/plain": [
              "<Figure size 600x400 with 1 Axes>"
            ],
            "image/png": "[encoded data removed]"
          },
          "metadata": {}
        }
      ]
    },
    {
      "cell_type": "code",
      "source": [
        "# data prep for training and testing sets\n",
        "print(\"\\n************************** Rating Distribution Stats II  **************************\\n\")\n",
        "user_ratings_train = training.groupBy(\"user_id\").count().select(\"count\").collect()\n",
        "user_ratings_test = test.groupBy(\"user_id\").count().select(\"count\").collect()\n",
        "\n",
        "movie_ratings_train = training.groupBy(\"item_id\").count().select(\"count\").collect()\n",
        "movie_ratings_test = test.groupBy(\"item_id\").count().select(\"count\").collect()\n",
        "\n",
        "# Changing into lists\n",
        "user_ratings_train_list = [entry['count'] for entry in user_ratings_train]\n",
        "user_ratings_test_list = [entry['count'] for entry in user_ratings_test]\n",
        "\n",
        "movie_ratings_train_list = [entry['count'] for entry in movie_ratings_train]\n",
        "movie_ratings_test_list = [entry['count'] for entry in movie_ratings_test]\n",
        "\n",
        "# Set up side-by-side plots to compare distributions\n",
        "fig, axs = plt.subplots(1, 2, figsize=(10, 4))\n",
        "\n",
        "# Ploting chart for both the training and test datasets\n",
        "axs[0].hist(user_ratings_train_list, bins=30, alpha=0.7, label='Training Data', color='blue')\n",
        "axs[0].hist(user_ratings_test_list, bins=30, alpha=0.7, label='Testing Data', color='orange')\n",
        "axs[0].set_title('Ratings Distribution per User')\n",
        "axs[0].set_xlabel('Number of Ratings by User')\n",
        "axs[0].set_ylabel('User Count')\n",
        "axs[0].legend()\n",
        "\n",
        "# Ploting chart for both the training and test datasets\n",
        "axs[1].hist(movie_ratings_train_list, bins=30, alpha=0.7, label='Training Data', color='blue')\n",
        "axs[1].hist(movie_ratings_test_list, bins=30, alpha=0.7, label='Testing Data', color='orange')\n",
        "axs[1].set_title('Ratings Distribution per Movie')\n",
        "axs[1].set_xlabel('Number of Ratings per Movie')\n",
        "axs[1].set_ylabel('Movie Count')\n",
        "axs[1].legend()\n",
        "\n",
        "#  Cosmetic Change\n",
        "plt.tight_layout()\n",
        "plt.show()\n"
      ],
      "metadata": {
        "colab": {
          "base_uri": "https://localhost:8080/",
          "height": 459
        },
        "id": "629QTu4z3GIa",
        "outputId": "06be11d2-f895-435a-b364-8c0103a29ab7"
      },
      "execution_count": 35,
      "outputs": [
        {
          "output_type": "stream",
          "name": "stdout",
          "text": [
            "\n",
            "************************** Rating Distribution Stats II  **************************\n",
            "\n"
          ]
        },
        {
          "output_type": "display_data",
          "data": {
            "text/plain": [
              "<Figure size 1000x400 with 2 Axes>"
            ],
            "image/png": "[encoded data removed]"
          },
          "metadata": {}
        }
      ]
    },
    {
      "cell_type": "code",
      "source": [
        "from pyspark.sql.functions import from_unixtime\n",
        "print(\"\\n************************** Time wise rating stats  **************************\\n\")\n",
        "\n",
        "# chaning timestamp to date\n",
        "training_with_date = training.withColumn(\"date\", from_unixtime(\"timestamp\").cast(\"date\"))\n",
        "test_with_date = test.withColumn(\"date\", from_unixtime(\"timestamp\").cast(\"date\"))\n",
        "\n",
        "# Counting of no. of ratings per date\n",
        "ratings_per_date_train = training_with_date.groupBy(\"date\").count().orderBy(\"date\").toPandas()\n",
        "ratings_per_date_test = test_with_date.groupBy(\"date\").count().orderBy(\"date\").toPandas()\n",
        "\n",
        "# Ploting of line chart\n",
        "plt.figure(figsize=(8, 4))\n",
        "plt.plot(ratings_per_date_train[\"date\"], ratings_per_date_train[\"count\"], label='Training set', color='blue')\n",
        "plt.plot(ratings_per_date_test[\"date\"], ratings_per_date_test[\"count\"], label='Test set', color='orange')\n",
        "\n",
        "#Cosmetic changes\n",
        "plt.xlabel('Date')\n",
        "plt.ylabel('Number of Ratings')\n",
        "plt.title('Number of Ratings Over Time')\n",
        "plt.legend()\n",
        "plt.show()\n"
      ],
      "metadata": {
        "colab": {
          "base_uri": "https://localhost:8080/",
          "height": 462
        },
        "id": "Vu0QFT0J3IsZ",
        "outputId": "a031c85e-23f3-4590-9ff3-ff3d3ec47598"
      },
      "execution_count": 37,
      "outputs": [
        {
          "output_type": "stream",
          "name": "stdout",
          "text": [
            "\n",
            "************************** Time wise rating stats  **************************\n",
            "\n"
          ]
        },
        {
          "output_type": "display_data",
          "data": {
            "text/plain": [
              "<Figure size 800x400 with 1 Axes>"
            ],
            "image/png": "[encoded data removed]"
          },
          "metadata": {}
        }
      ]
    },
    {
      "cell_type": "markdown",
      "metadata": {
        "id": "wpsaYOqRxar2"
      },
      "source": [
        "Using the training set, train a model with the Alternating Least Squares method available in the Spark MLlib: [https://spark.apache.org/docs/latest/ml-collaborative-filtering.html](https://spark.apache.org/docs/latest/ml-collaborative-filtering.html)"
      ]
    },
    {
      "cell_type": "code",
      "execution_count": 26,
      "metadata": {
        "id": "Oitav_xhQD9w"
      },
      "outputs": [],
      "source": [
        "from pyspark.ml.evaluation import RegressionEvaluator\n",
        "from pyspark.ml.recommendation import ALS\n",
        "from pyspark.sql import Row\n",
        "\n",
        "# Building of the recommendation model using ALS on the importated training data\n",
        "#setting cold start strategy = 'drop' to avoid any NaN values from the evaluation metrics\n",
        "als = ALS(rank=10, maxIter=10, regParam=0.1, userCol=\"user_id\", itemCol=\"item_id\", ratingCol=\"rating\",\n",
        "          coldStartStrategy=\"drop\")\n",
        "model = als.fit(training)"
      ]
    },
    {
      "cell_type": "markdown",
      "metadata": {
        "id": "TtR1xRvonxiO"
      },
      "source": [
        "Now compute the RMSE on the test dataset.\n"
      ]
    },
    {
      "cell_type": "code",
      "execution_count": 27,
      "metadata": {
        "id": "GP23Xkgwi0SD",
        "colab": {
          "base_uri": "https://localhost:8080/"
        },
        "outputId": "4d55a8c5-664f-4c5b-f094-9d88bb466d2c"
      },
      "outputs": [
        {
          "output_type": "stream",
          "name": "stdout",
          "text": [
            "Root-mean-square error = 0.9371069906499119\n"
          ]
        }
      ],
      "source": [
        "#using RMSE on the dataset for evalution purpose\n",
        "predictions = model.transform(test)\n",
        "evaluator = RegressionEvaluator(metricName=\"rmse\", labelCol=\"rating\",\n",
        "                                predictionCol=\"prediction\")\n",
        "rmse = evaluator.evaluate(predictions)\n",
        "print(\"Root-mean-square error = \" + str(rmse))\n"
      ]
    },
    {
      "cell_type": "code",
      "source": [
        "# Build the recommendation model using ALS on the training data\n",
        "# Note we set cold start strategy to 'drop' to ensure we don't get NaN evaluation metrics\n",
        "als = ALS(rank=100, maxIter=10, regParam=0.1, userCol=\"user_id\", itemCol=\"item_id\", ratingCol=\"rating\",\n",
        "          coldStartStrategy=\"drop\")\n",
        "model = als.fit(training)\n",
        "\n",
        "# YOUR CODE HERE\n",
        "# Evaluate the model by computing the RMSE on the test data\n",
        "predictions = model.transform(test)\n",
        "evaluator = RegressionEvaluator(metricName=\"rmse\", labelCol=\"rating\",\n",
        "                                predictionCol=\"prediction\")\n",
        "rmse = evaluator.evaluate(predictions)\n",
        "print(\"Root-mean-square error = \" + str(rmse))"
      ],
      "metadata": {
        "colab": {
          "base_uri": "https://localhost:8080/"
        },
        "id": "B-Rz8tNH1zrX",
        "outputId": "04749b26-4104-4aca-ab3d-a13eb9867be4"
      },
      "execution_count": 28,
      "outputs": [
        {
          "output_type": "stream",
          "name": "stdout",
          "text": [
            "Root-mean-square error = 0.9278462701804047\n"
          ]
        }
      ]
    },
    {
      "cell_type": "markdown",
      "metadata": {
        "id": "lBvSaWGEMHXI"
      },
      "source": [
        "At this point, you can use the trained model to produce the top-K recommendations for each user."
      ]
    },
    {
      "cell_type": "code",
      "execution_count": 29,
      "metadata": {
        "id": "KbMlWL5_UfSc",
        "colab": {
          "base_uri": "https://localhost:8080/"
        },
        "outputId": "c7cb82fa-93d0-4c34-9b29-b5ce8aa1d143"
      },
      "outputs": [
        {
          "output_type": "stream",
          "name": "stdout",
          "text": [
            "Regularization parameter = 1, Root-mean-square error = 1.379344968170541\n",
            "Regularization parameter = 0.3, Root-mean-square error = 0.9908413506876436\n",
            "Regularization parameter = 0.1, Root-mean-square error = 0.9278462701804102\n",
            "Regularization parameter = 0.03, Root-mean-square error = 0.9774216867696286\n",
            "Regularization parameter = 0.01, Root-mean-square error = 1.1381090350659808\n"
          ]
        }
      ],
      "source": [
        "regParam_list = [1, 0.3, 0.1, 0.03, 0.01]\n",
        "\n",
        "for regParam in regParam_list:\n",
        "  # Build the recommendation model using ALS on the training data\n",
        "  # Note we set cold start strategy to 'drop' to ensure we don't get NaN evaluation metrics\n",
        "  als = ALS(rank=100, maxIter=10, regParam=regParam, userCol=\"user_id\", itemCol=\"item_id\", ratingCol=\"rating\",\n",
        "            coldStartStrategy=\"drop\")\n",
        "  model = als.fit(training)\n",
        "\n",
        "  # YOUR CODE HERE\n",
        "  # Evaluate the model by computing the RMSE on the test data\n",
        "  predictions = model.transform(test)\n",
        "  evaluator = RegressionEvaluator(metricName=\"rmse\", labelCol=\"rating\",\n",
        "                                  predictionCol=\"prediction\")\n",
        "  rmse = evaluator.evaluate(predictions)\n",
        "  print(\"Regularization parameter = {}, Root-mean-square error = {}\".format(regParam, str(rmse)))\n"
      ]
    },
    {
      "cell_type": "code",
      "source": [
        "# YOUR CODE HERE\n",
        "# Build the recommendation model using ALS on the training data\n",
        "# Note we set cold start strategy to 'drop' to ensure we don't get NaN evaluation metrics\n",
        "als = ALS(rank=100, maxIter=10, regParam=0.1, userCol=\"user_id\", itemCol=\"item_id\", ratingCol=\"rating\",\n",
        "          coldStartStrategy=\"drop\")\n",
        "model = als.fit(training)\n",
        "\n",
        "# YOUR CODE HERE\n",
        "# Evaluate the model by computing the RMSE on the test data\n",
        "predictions = model.transform(test)\n",
        "evaluator = RegressionEvaluator(metricName=\"rmse\", labelCol=\"rating\",\n",
        "                                predictionCol=\"prediction\")\n",
        "rmse = evaluator.evaluate(predictions)\n",
        "\n",
        "# Generate top 1 movie recommendations for each user\n",
        "userRecs = model.recommendForAllUsers(1)"
      ],
      "metadata": {
        "id": "bV4RODUvbf5S"
      },
      "execution_count": 30,
      "outputs": []
    },
    {
      "cell_type": "code",
      "source": [
        "userRecs.select('user_id', expr(\"recommendations['item_id']\")[0].alias(\"item_id\")).groupBy('item_id').count().sort(desc('count')).take(5)"
      ],
      "metadata": {
        "colab": {
          "base_uri": "https://localhost:8080/"
        },
        "id": "9BCYt4UL2C_a",
        "outputId": "167bf61e-9925-4eeb-d32a-59acf41d5887"
      },
      "execution_count": 31,
      "outputs": [
        {
          "output_type": "execute_result",
          "data": {
            "text/plain": [
              "[Row(item_id=1449, count=125),\n",
              " Row(item_id=313, count=77),\n",
              " Row(item_id=318, count=69),\n",
              " Row(item_id=50, count=68),\n",
              " Row(item_id=64, count=42)]"
            ]
          },
          "metadata": {},
          "execution_count": 31
        }
      ]
    },
    {
      "cell_type": "code",
      "source": [
        "items.filter(items.item_id == 1449).take(5)"
      ],
      "metadata": {
        "colab": {
          "base_uri": "https://localhost:8080/"
        },
        "id": "PXA4g5J3bgDD",
        "outputId": "7d2b8ed5-e08a-4407-f266-1a244861f8e8"
      },
      "execution_count": 32,
      "outputs": [
        {
          "output_type": "execute_result",
          "data": {
            "text/plain": [
              "[Row(item_id=1449, movie='Pather Panchali (1955)')]"
            ]
          },
          "metadata": {},
          "execution_count": 32
        }
      ]
    },
    {
      "cell_type": "markdown",
      "metadata": {
        "id": "SIrXJyVNP2AI"
      },
      "source": [
        "Once you have working code for each cell above, **head over to Gradescope, carefully read the questions, and submit your solution for this Colab**!"
      ]
    }
  ],
  "metadata": {
    "colab": {
      "provenance": []
    },
    "kernelspec": {
      "display_name": "Python 3",
      "name": "python3"
    }
  },
  "nbformat": 4,
  "nbformat_minor": 0
}